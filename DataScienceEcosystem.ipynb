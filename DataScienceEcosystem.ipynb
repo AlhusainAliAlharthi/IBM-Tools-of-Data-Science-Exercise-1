{
 "cells": [
  {
   "cell_type": "markdown",
   "id": "91a4b7fc-78fe-4cc4-862c-5990a7efd2ef",
   "metadata": {},
   "source": [
    "# Data Science Tools and Ecosystem"
   ]
  },
  {
   "cell_type": "markdown",
   "id": "9c839bcd-a45f-4e76-ba2e-32825dfb8925",
   "metadata": {},
   "source": [
    "In this notebook, Data Science Tools and Ecosystem are summarized."
   ]
  },
  {
   "cell_type": "markdown",
   "id": "d8ad2b33-e3e4-4a2d-ad90-24eac438a831",
   "metadata": {},
   "source": [
    "Some of the popular languages that Data Scientists use are:\r",
    "1. Python\n",
    "2. R\n",
    "3. SQL\n"
   ]
  },
  {
   "cell_type": "markdown",
   "id": "dc37e517-75ca-4b00-a5ee-0676e39e3c4e",
   "metadata": {},
   "source": [
    "Some of the commonly used libraries used by Data Scientists include:\n",
    "1. Pandas\n",
    "2. Scilkit-Learn\n",
    "3. Numpy\n",
    "4. Seaborn"
   ]
  },
  {
   "cell_type": "markdown",
   "id": "90c38703-697f-4247-a33e-cc0df5eff303",
   "metadata": {},
   "source": [
    "| Data Science Tools |\n",
    "|--------------------|\n",
    "| Jupyter Notebook   |\n",
    "| RStudio            |\n",
    "| Apache Zeppelin    |\n"
   ]
  },
  {
   "cell_type": "markdown",
   "id": "2b7597ad-27ac-4a1b-b5b6-bb6b78909644",
   "metadata": {},
   "source": [
    "### Below are a few examples of evaluating arithmetic expressions in Python"
   ]
  },
  {
   "cell_type": "code",
   "execution_count": 3,
   "id": "fcfdb039-1111-4c40-b05d-48954ef8c5fc",
   "metadata": {},
   "outputs": [
    {
     "data": {
      "text/plain": [
       "17"
      ]
     },
     "execution_count": 3,
     "metadata": {},
     "output_type": "execute_result"
    }
   ],
   "source": [
    "    (3*4) + 5\n",
    "#   (12) + 5\n",
    "#   12 + 5\n",
    "#   = 17"
   ]
  },
  {
   "cell_type": "code",
   "execution_count": 4,
   "id": "ddc6e299-6e4e-419d-94d5-f81927af52e2",
   "metadata": {},
   "outputs": [
    {
     "data": {
      "text/plain": [
       "3.3333333333333335"
      ]
     },
     "execution_count": 4,
     "metadata": {},
     "output_type": "execute_result"
    }
   ],
   "source": [
    "# hour has 60 minutes, so by dividing minutes by 60, will give us the hours\n",
    "minutes = 200\n",
    "hours = minutes / 60\n",
    "hours\n"
   ]
  },
  {
   "cell_type": "markdown",
   "id": "671ccb8c-dc4a-490a-aff5-a4395380f2bc",
   "metadata": {},
   "source": [
    "**Objectives:**\n",
    "- List popular languages for data science\n",
    "- List commonly used libraries in data science\n",
    "- List examples of data science tools and environments"
   ]
  },
  {
   "cell_type": "markdown",
   "id": "77d19064-a154-446a-81ec-c8756a93accf",
   "metadata": {},
   "source": [
    "## Author\n",
    "Alhusain Al Harthi"
   ]
  },
  {
   "cell_type": "code",
   "execution_count": null,
   "id": "c8436945-eb30-47be-9015-8c4f6304b6e5",
   "metadata": {},
   "outputs": [],
   "source": []
  }
 ],
 "metadata": {
  "kernelspec": {
   "display_name": "Python 3 (ipykernel)",
   "language": "python",
   "name": "python3"
  },
  "language_info": {
   "codemirror_mode": {
    "name": "ipython",
    "version": 3
   },
   "file_extension": ".py",
   "mimetype": "text/x-python",
   "name": "python",
   "nbconvert_exporter": "python",
   "pygments_lexer": "ipython3",
   "version": "3.11.7"
  }
 },
 "nbformat": 4,
 "nbformat_minor": 5
}
